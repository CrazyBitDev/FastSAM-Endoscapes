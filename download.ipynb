{
 "cells": [
  {
   "cell_type": "markdown",
   "metadata": {},
   "source": [
    "## Endoscape Dataset"
   ]
  },
  {
   "cell_type": "markdown",
   "metadata": {},
   "source": [
    "Download the dataset from [here](https://s3.unistra.fr/camma_public/datasets/endoscapes/endoscapes.zip)"
   ]
  },
  {
   "cell_type": "code",
   "execution_count": null,
   "metadata": {},
   "outputs": [],
   "source": [
    "!wget https://s3.unistra.fr/camma_public/datasets/endoscapes/endoscapes.zip"
   ]
  },
  {
   "cell_type": "markdown",
   "metadata": {},
   "source": [
    "Unzip the dataset and delete the zip file."
   ]
  },
  {
   "cell_type": "code",
   "execution_count": 1,
   "metadata": {},
   "outputs": [],
   "source": [
    "!unzip endoscapes.zip > /dev/null\n",
    "!rm endoscapes.zip"
   ]
  },
  {
   "cell_type": "markdown",
   "metadata": {},
   "source": [
    "## FastSAM repository"
   ]
  },
  {
   "cell_type": "markdown",
   "metadata": {},
   "source": [
    "FastSAM dependencies installation"
   ]
  },
  {
   "cell_type": "code",
   "execution_count": null,
   "metadata": {},
   "outputs": [],
   "source": [
    "%pip install -r FastSAM/requirements.txt\n",
    "%pip install git+https://github.com/openai/CLIP.git"
   ]
  },
  {
   "cell_type": "markdown",
   "metadata": {},
   "source": [
    "FastSAM train and validation ultralytics library installation"
   ]
  },
  {
   "cell_type": "code",
   "execution_count": null,
   "metadata": {},
   "outputs": [],
   "source": [
    "%pip install -e train_and_validation/ultralytics-d8701b42caeb9f7f1de5fd45e7c3f3cf1724ebb6/"
   ]
  },
  {
   "cell_type": "markdown",
   "metadata": {},
   "source": [
    "weights directory creation and installation of the download libreries"
   ]
  },
  {
   "cell_type": "code",
   "execution_count": null,
   "metadata": {},
   "outputs": [],
   "source": [
    "!mkdir weights\n",
    "%pip install gdown"
   ]
  },
  {
   "cell_type": "markdown",
   "metadata": {},
   "source": [
    "Download the FastSAM weight for Yolo8 fine-tuning"
   ]
  },
  {
   "cell_type": "code",
   "execution_count": 5,
   "metadata": {},
   "outputs": [
    {
     "name": "stdout",
     "output_type": "stream",
     "text": [
      "Downloading...\n",
      "From: https://drive.google.com/uc?id=10XmSj6mmpmRb8NhXbtiuO9cTTBwR_9SV\n",
      "To: /home/matteo/FastSAM Endoscapes/weights/FastSAM-s.pth\n",
      "100%|██████████████████████████████████████| 23.8M/23.8M [00:01<00:00, 16.0MB/s]\n"
     ]
    }
   ],
   "source": [
    "!gdown 10XmSj6mmpmRb8NhXbtiuO9cTTBwR_9SV -O weights/FastSAM-s.pt"
   ]
  },
  {
   "cell_type": "markdown",
   "metadata": {},
   "source": [
    "Download the FastSAM weight and CLIP weight fine-tuned on Endoscape dataset\n",
    "\n",
    "Due to the size of the files, the files are not uploaded in the GitHub repository, so it can be downloaded easly. They can be downloaded from huggingface without any authentication with the following code"
   ]
  },
  {
   "cell_type": "code",
   "execution_count": null,
   "metadata": {},
   "outputs": [],
   "source": [
    "%pip install huggingface_hub\n",
    "\n",
    "from huggingface_hub import snapshot_download\n",
    "snapshot_download(repo_id=\"CrazyBit/FastSAM_Endoscapes\", local_dir=\"./weights\")"
   ]
  },
  {
   "cell_type": "markdown",
   "metadata": {},
   "source": [
    "## Other libraries"
   ]
  },
  {
   "cell_type": "code",
   "execution_count": null,
   "metadata": {},
   "outputs": [],
   "source": [
    "%pip install upolygon pycocotools scikit-learn pandas"
   ]
  },
  {
   "cell_type": "markdown",
   "metadata": {},
   "source": [
    "### MMdet"
   ]
  },
  {
   "cell_type": "code",
   "execution_count": 1,
   "metadata": {},
   "outputs": [
    {
     "name": "stdout",
     "output_type": "stream",
     "text": [
      "Defaulting to user installation because normal site-packages is not writeable\n",
      "Requirement already satisfied: openmim in /home/matteo/.local/lib/python3.9/site-packages (0.3.9)\n",
      "Requirement already satisfied: Click in /home/matteo/.local/lib/python3.9/site-packages (from openmim) (8.1.7)\n",
      "Requirement already satisfied: colorama in /home/matteo/.local/lib/python3.9/site-packages (from openmim) (0.4.6)\n",
      "Requirement already satisfied: model-index in /home/matteo/.local/lib/python3.9/site-packages (from openmim) (0.1.11)\n",
      "Requirement already satisfied: opendatalab in /home/matteo/.local/lib/python3.9/site-packages (from openmim) (0.0.10)\n",
      "Requirement already satisfied: pandas in /home/matteo/.local/lib/python3.9/site-packages (from openmim) (2.2.2)\n",
      "Requirement already satisfied: pip>=19.3 in /home/matteo/.local/lib/python3.9/site-packages (from openmim) (24.0)\n",
      "Requirement already satisfied: requests in /home/matteo/.local/lib/python3.9/site-packages (from openmim) (2.28.2)\n",
      "Requirement already satisfied: rich in /home/matteo/.local/lib/python3.9/site-packages (from openmim) (13.4.2)\n",
      "Requirement already satisfied: tabulate in /home/matteo/.local/lib/python3.9/site-packages (from openmim) (0.9.0)\n",
      "Requirement already satisfied: pyyaml in /home/matteo/.local/lib/python3.9/site-packages (from model-index->openmim) (6.0.1)\n",
      "Requirement already satisfied: markdown in /home/matteo/.local/lib/python3.9/site-packages (from model-index->openmim) (3.6)\n",
      "Requirement already satisfied: ordered-set in /home/matteo/.local/lib/python3.9/site-packages (from model-index->openmim) (4.1.0)\n",
      "Requirement already satisfied: pycryptodome in /home/matteo/.local/lib/python3.9/site-packages (from opendatalab->openmim) (3.20.0)\n",
      "Requirement already satisfied: tqdm in /home/matteo/.local/lib/python3.9/site-packages (from opendatalab->openmim) (4.65.2)\n",
      "Requirement already satisfied: openxlab in /home/matteo/.local/lib/python3.9/site-packages (from opendatalab->openmim) (0.1.1)\n",
      "Requirement already satisfied: charset-normalizer<4,>=2 in /home/matteo/.local/lib/python3.9/site-packages (from requests->openmim) (3.3.2)\n",
      "Requirement already satisfied: idna<4,>=2.5 in /usr/lib/python3/dist-packages (from requests->openmim) (2.10)\n",
      "Requirement already satisfied: urllib3<1.27,>=1.21.1 in /usr/lib/python3/dist-packages (from requests->openmim) (1.26.5)\n",
      "Requirement already satisfied: certifi>=2017.4.17 in /usr/lib/python3/dist-packages (from requests->openmim) (2020.6.20)\n",
      "Requirement already satisfied: numpy>=1.22.4 in /home/matteo/.local/lib/python3.9/site-packages (from pandas->openmim) (1.26.4)\n",
      "Requirement already satisfied: python-dateutil>=2.8.2 in /home/matteo/.local/lib/python3.9/site-packages (from pandas->openmim) (2.9.0.post0)\n",
      "Requirement already satisfied: pytz>=2020.1 in /home/matteo/.local/lib/python3.9/site-packages (from pandas->openmim) (2023.4)\n",
      "Requirement already satisfied: tzdata>=2022.7 in /home/matteo/.local/lib/python3.9/site-packages (from pandas->openmim) (2024.1)\n",
      "Requirement already satisfied: markdown-it-py>=2.2.0 in /home/matteo/.local/lib/python3.9/site-packages (from rich->openmim) (2.2.0)\n",
      "Requirement already satisfied: pygments<3.0.0,>=2.13.0 in /home/matteo/.local/lib/python3.9/site-packages (from rich->openmim) (2.18.0)\n",
      "Requirement already satisfied: mdurl~=0.1 in /home/matteo/.local/lib/python3.9/site-packages (from markdown-it-py>=2.2.0->rich->openmim) (0.1.2)\n",
      "Requirement already satisfied: six>=1.5 in /usr/lib/python3/dist-packages (from python-dateutil>=2.8.2->pandas->openmim) (1.16.0)\n",
      "Requirement already satisfied: importlib-metadata>=4.4 in /home/matteo/.local/lib/python3.9/site-packages (from markdown->model-index->openmim) (7.0.1)\n",
      "Requirement already satisfied: filelock~=3.14.0 in /home/matteo/.local/lib/python3.9/site-packages (from openxlab->opendatalab->openmim) (3.14.0)\n",
      "Requirement already satisfied: oss2~=2.17.0 in /home/matteo/.local/lib/python3.9/site-packages (from openxlab->opendatalab->openmim) (2.17.0)\n",
      "Requirement already satisfied: packaging~=24.0 in /home/matteo/.local/lib/python3.9/site-packages (from openxlab->opendatalab->openmim) (24.1)\n",
      "Requirement already satisfied: setuptools~=60.2.0 in /home/matteo/.local/lib/python3.9/site-packages (from openxlab->opendatalab->openmim) (60.2.0)\n",
      "Requirement already satisfied: zipp>=0.5 in /home/matteo/.local/lib/python3.9/site-packages (from importlib-metadata>=4.4->markdown->model-index->openmim) (3.17.0)\n",
      "Requirement already satisfied: aliyun-python-sdk-core>=2.13.12 in /home/matteo/.local/lib/python3.9/site-packages (from oss2~=2.17.0->openxlab->opendatalab->openmim) (2.15.1)\n",
      "Requirement already satisfied: aliyun-python-sdk-kms>=2.4.1 in /home/matteo/.local/lib/python3.9/site-packages (from oss2~=2.17.0->openxlab->opendatalab->openmim) (2.16.3)\n",
      "Requirement already satisfied: crcmod>=1.7 in /home/matteo/.local/lib/python3.9/site-packages (from oss2~=2.17.0->openxlab->opendatalab->openmim) (1.7)\n",
      "Requirement already satisfied: cryptography>=2.6.0 in /home/matteo/.local/lib/python3.9/site-packages (from aliyun-python-sdk-core>=2.13.12->oss2~=2.17.0->openxlab->opendatalab->openmim) (42.0.8)\n",
      "Requirement already satisfied: jmespath<1.0.0,>=0.9.3 in /home/matteo/.local/lib/python3.9/site-packages (from aliyun-python-sdk-core>=2.13.12->oss2~=2.17.0->openxlab->opendatalab->openmim) (0.10.0)\n",
      "Requirement already satisfied: cffi>=1.12 in /home/matteo/.local/lib/python3.9/site-packages (from cryptography>=2.6.0->aliyun-python-sdk-core>=2.13.12->oss2~=2.17.0->openxlab->opendatalab->openmim) (1.16.0)\n",
      "Requirement already satisfied: pycparser in /home/matteo/.local/lib/python3.9/site-packages (from cffi>=1.12->cryptography>=2.6.0->aliyun-python-sdk-core>=2.13.12->oss2~=2.17.0->openxlab->opendatalab->openmim) (2.22)\n",
      "\n",
      "\u001b[1m[\u001b[0m\u001b[34;49mnotice\u001b[0m\u001b[1;39;49m]\u001b[0m\u001b[39;49m A new release of pip is available: \u001b[0m\u001b[31;49m24.0\u001b[0m\u001b[39;49m -> \u001b[0m\u001b[32;49m24.1.2\u001b[0m\n",
      "\u001b[1m[\u001b[0m\u001b[34;49mnotice\u001b[0m\u001b[1;39;49m]\u001b[0m\u001b[39;49m To update, run: \u001b[0m\u001b[32;49mpip install --upgrade pip\u001b[0m\n",
      "Note: you may need to restart the kernel to use updated packages.\n",
      "Defaulting to user installation because normal site-packages is not writeable\n",
      "Looking in links: https://download.openmmlab.com/mmcv/dist/cu121/torch2.3.0/index.html\n",
      "Collecting mmdet\n",
      "  Using cached mmdet-3.3.0-py3-none-any.whl.metadata (29 kB)\n",
      "Requirement already satisfied: matplotlib in /home/matteo/.local/lib/python3.9/site-packages (from mmdet) (3.8.4)\n",
      "Requirement already satisfied: numpy in /home/matteo/.local/lib/python3.9/site-packages (from mmdet) (1.26.4)\n",
      "Requirement already satisfied: pycocotools in /home/matteo/.local/lib/python3.9/site-packages (from mmdet) (2.0.8)\n",
      "Requirement already satisfied: scipy in /home/matteo/.local/lib/python3.9/site-packages (from mmdet) (1.13.0)\n",
      "Collecting shapely (from mmdet)\n",
      "  Using cached shapely-2.0.5-cp39-cp39-manylinux_2_17_x86_64.manylinux2014_x86_64.whl.metadata (7.0 kB)\n",
      "Requirement already satisfied: six in /usr/lib/python3/dist-packages (from mmdet) (1.16.0)\n",
      "Collecting terminaltables (from mmdet)\n",
      "  Using cached terminaltables-3.1.10-py2.py3-none-any.whl.metadata (3.5 kB)\n",
      "Requirement already satisfied: tqdm in /home/matteo/.local/lib/python3.9/site-packages (from mmdet) (4.65.2)\n",
      "Collecting mmcv<2.2.0,>=2.0.0rc4 (from mmdet)\n",
      "  Using cached mmcv-2.1.0.tar.gz (471 kB)\n",
      "  Preparing metadata (setup.py) ... \u001b[?25ldone\n",
      "\u001b[?25hCollecting mmengine<1.0.0,>=0.7.1 (from mmdet)\n",
      "  Using cached mmengine-0.10.4-py3-none-any.whl.metadata (20 kB)\n",
      "Requirement already satisfied: addict in /home/matteo/.local/lib/python3.9/site-packages (from mmcv<2.2.0,>=2.0.0rc4->mmdet) (2.4.0)\n",
      "Requirement already satisfied: packaging in /home/matteo/.local/lib/python3.9/site-packages (from mmcv<2.2.0,>=2.0.0rc4->mmdet) (24.1)\n",
      "Requirement already satisfied: Pillow in /home/matteo/.local/lib/python3.9/site-packages (from mmcv<2.2.0,>=2.0.0rc4->mmdet) (10.3.0)\n",
      "Requirement already satisfied: pyyaml in /home/matteo/.local/lib/python3.9/site-packages (from mmcv<2.2.0,>=2.0.0rc4->mmdet) (6.0.1)\n",
      "Requirement already satisfied: yapf in /home/matteo/.local/lib/python3.9/site-packages (from mmcv<2.2.0,>=2.0.0rc4->mmdet) (0.40.2)\n",
      "Requirement already satisfied: rich in /home/matteo/.local/lib/python3.9/site-packages (from mmengine<1.0.0,>=0.7.1->mmdet) (13.4.2)\n",
      "Requirement already satisfied: termcolor in /home/matteo/.local/lib/python3.9/site-packages (from mmengine<1.0.0,>=0.7.1->mmdet) (2.4.0)\n",
      "Requirement already satisfied: opencv-python>=3 in /home/matteo/.local/lib/python3.9/site-packages (from mmengine<1.0.0,>=0.7.1->mmdet) (4.10.0.84)\n",
      "Requirement already satisfied: contourpy>=1.0.1 in /home/matteo/.local/lib/python3.9/site-packages (from matplotlib->mmdet) (1.2.1)\n",
      "Requirement already satisfied: cycler>=0.10 in /home/matteo/.local/lib/python3.9/site-packages (from matplotlib->mmdet) (0.12.1)\n",
      "Requirement already satisfied: fonttools>=4.22.0 in /home/matteo/.local/lib/python3.9/site-packages (from matplotlib->mmdet) (4.51.0)\n",
      "Requirement already satisfied: kiwisolver>=1.3.1 in /home/matteo/.local/lib/python3.9/site-packages (from matplotlib->mmdet) (1.4.5)\n",
      "Requirement already satisfied: pyparsing>=2.3.1 in /home/matteo/.local/lib/python3.9/site-packages (from matplotlib->mmdet) (3.1.2)\n",
      "Requirement already satisfied: python-dateutil>=2.7 in /home/matteo/.local/lib/python3.9/site-packages (from matplotlib->mmdet) (2.9.0.post0)\n",
      "Requirement already satisfied: importlib-resources>=3.2.0 in /home/matteo/.local/lib/python3.9/site-packages (from matplotlib->mmdet) (6.4.0)\n",
      "Requirement already satisfied: zipp>=3.1.0 in /home/matteo/.local/lib/python3.9/site-packages (from importlib-resources>=3.2.0->matplotlib->mmdet) (3.17.0)\n",
      "Requirement already satisfied: markdown-it-py>=2.2.0 in /home/matteo/.local/lib/python3.9/site-packages (from rich->mmengine<1.0.0,>=0.7.1->mmdet) (2.2.0)\n",
      "Requirement already satisfied: pygments<3.0.0,>=2.13.0 in /home/matteo/.local/lib/python3.9/site-packages (from rich->mmengine<1.0.0,>=0.7.1->mmdet) (2.18.0)\n",
      "Requirement already satisfied: importlib-metadata>=6.6.0 in /home/matteo/.local/lib/python3.9/site-packages (from yapf->mmcv<2.2.0,>=2.0.0rc4->mmdet) (7.0.1)\n",
      "Requirement already satisfied: platformdirs>=3.5.1 in /home/matteo/.local/lib/python3.9/site-packages (from yapf->mmcv<2.2.0,>=2.0.0rc4->mmdet) (4.2.1)\n",
      "Requirement already satisfied: tomli>=2.0.1 in /home/matteo/.local/lib/python3.9/site-packages (from yapf->mmcv<2.2.0,>=2.0.0rc4->mmdet) (2.0.1)\n",
      "Requirement already satisfied: mdurl~=0.1 in /home/matteo/.local/lib/python3.9/site-packages (from markdown-it-py>=2.2.0->rich->mmengine<1.0.0,>=0.7.1->mmdet) (0.1.2)\n",
      "Using cached mmdet-3.3.0-py3-none-any.whl (2.2 MB)\n",
      "Using cached mmengine-0.10.4-py3-none-any.whl (451 kB)\n",
      "Using cached shapely-2.0.5-cp39-cp39-manylinux_2_17_x86_64.manylinux2014_x86_64.whl (2.5 MB)\n",
      "Using cached terminaltables-3.1.10-py2.py3-none-any.whl (15 kB)\n",
      "Building wheels for collected packages: mmcv\n",
      "  Building wheel for mmcv (setup.py) ... \u001b[?25l|^C\n",
      "\u001b[?25canceled\n",
      "\u001b[31mERROR: Operation cancelled by user\u001b[0m\u001b[31m\n",
      "\u001b[0mDefaulting to user installation because normal site-packages is not writeable\n",
      "Looking in links: https://download.openmmlab.com/mmcv/dist/cu121/torch2.3.0/index.html\n",
      "Collecting mmengine==0.7.4\n",
      "  Using cached mmengine-0.7.4-py3-none-any.whl.metadata (18 kB)\n",
      "Requirement already satisfied: addict in /home/matteo/.local/lib/python3.9/site-packages (from mmengine==0.7.4) (2.4.0)\n",
      "Requirement already satisfied: matplotlib in /home/matteo/.local/lib/python3.9/site-packages (from mmengine==0.7.4) (3.8.4)\n",
      "Requirement already satisfied: numpy in /home/matteo/.local/lib/python3.9/site-packages (from mmengine==0.7.4) (1.26.4)\n",
      "Requirement already satisfied: pyyaml in /home/matteo/.local/lib/python3.9/site-packages (from mmengine==0.7.4) (6.0.1)\n",
      "Requirement already satisfied: rich in /home/matteo/.local/lib/python3.9/site-packages (from mmengine==0.7.4) (13.4.2)\n",
      "Requirement already satisfied: termcolor in /home/matteo/.local/lib/python3.9/site-packages (from mmengine==0.7.4) (2.4.0)\n",
      "Requirement already satisfied: yapf in /home/matteo/.local/lib/python3.9/site-packages (from mmengine==0.7.4) (0.40.2)\n",
      "Requirement already satisfied: opencv-python>=3 in /home/matteo/.local/lib/python3.9/site-packages (from mmengine==0.7.4) (4.10.0.84)\n",
      "Requirement already satisfied: contourpy>=1.0.1 in /home/matteo/.local/lib/python3.9/site-packages (from matplotlib->mmengine==0.7.4) (1.2.1)\n",
      "Requirement already satisfied: cycler>=0.10 in /home/matteo/.local/lib/python3.9/site-packages (from matplotlib->mmengine==0.7.4) (0.12.1)\n",
      "Requirement already satisfied: fonttools>=4.22.0 in /home/matteo/.local/lib/python3.9/site-packages (from matplotlib->mmengine==0.7.4) (4.51.0)\n",
      "Requirement already satisfied: kiwisolver>=1.3.1 in /home/matteo/.local/lib/python3.9/site-packages (from matplotlib->mmengine==0.7.4) (1.4.5)\n",
      "Requirement already satisfied: packaging>=20.0 in /home/matteo/.local/lib/python3.9/site-packages (from matplotlib->mmengine==0.7.4) (24.1)\n",
      "Requirement already satisfied: pillow>=8 in /home/matteo/.local/lib/python3.9/site-packages (from matplotlib->mmengine==0.7.4) (10.3.0)\n",
      "Requirement already satisfied: pyparsing>=2.3.1 in /home/matteo/.local/lib/python3.9/site-packages (from matplotlib->mmengine==0.7.4) (3.1.2)\n",
      "Requirement already satisfied: python-dateutil>=2.7 in /home/matteo/.local/lib/python3.9/site-packages (from matplotlib->mmengine==0.7.4) (2.9.0.post0)\n",
      "Requirement already satisfied: importlib-resources>=3.2.0 in /home/matteo/.local/lib/python3.9/site-packages (from matplotlib->mmengine==0.7.4) (6.4.0)\n",
      "Requirement already satisfied: markdown-it-py>=2.2.0 in /home/matteo/.local/lib/python3.9/site-packages (from rich->mmengine==0.7.4) (2.2.0)\n",
      "Requirement already satisfied: pygments<3.0.0,>=2.13.0 in /home/matteo/.local/lib/python3.9/site-packages (from rich->mmengine==0.7.4) (2.18.0)\n",
      "Requirement already satisfied: importlib-metadata>=6.6.0 in /home/matteo/.local/lib/python3.9/site-packages (from yapf->mmengine==0.7.4) (7.0.1)\n",
      "Requirement already satisfied: platformdirs>=3.5.1 in /home/matteo/.local/lib/python3.9/site-packages (from yapf->mmengine==0.7.4) (4.2.1)\n",
      "Requirement already satisfied: tomli>=2.0.1 in /home/matteo/.local/lib/python3.9/site-packages (from yapf->mmengine==0.7.4) (2.0.1)\n",
      "Requirement already satisfied: zipp>=0.5 in /home/matteo/.local/lib/python3.9/site-packages (from importlib-metadata>=6.6.0->yapf->mmengine==0.7.4) (3.17.0)\n",
      "Requirement already satisfied: mdurl~=0.1 in /home/matteo/.local/lib/python3.9/site-packages (from markdown-it-py>=2.2.0->rich->mmengine==0.7.4) (0.1.2)\n",
      "Requirement already satisfied: six>=1.5 in /usr/lib/python3/dist-packages (from python-dateutil>=2.7->matplotlib->mmengine==0.7.4) (1.16.0)\n",
      "Using cached mmengine-0.7.4-py3-none-any.whl (374 kB)\n",
      "Installing collected packages: mmengine\n",
      "Successfully installed mmengine-0.7.4\n",
      "\n",
      "\u001b[1m[\u001b[0m\u001b[34;49mnotice\u001b[0m\u001b[1;39;49m]\u001b[0m\u001b[39;49m A new release of pip is available: \u001b[0m\u001b[31;49m24.0\u001b[0m\u001b[39;49m -> \u001b[0m\u001b[32;49m24.1.2\u001b[0m\n",
      "\u001b[1m[\u001b[0m\u001b[34;49mnotice\u001b[0m\u001b[1;39;49m]\u001b[0m\u001b[39;49m To update, run: \u001b[0m\u001b[32;49mpip install --upgrade pip\u001b[0m\n"
     ]
    }
   ],
   "source": [
    "%pip install -U openmim\n",
    "!mim install mmdet\n",
    "!mim install mmengine==0.7.4"
   ]
  }
 ],
 "metadata": {
  "kernelspec": {
   "display_name": "cloudspace",
   "language": "python",
   "name": "python3"
  },
  "language_info": {
   "codemirror_mode": {
    "name": "ipython",
    "version": 3
   },
   "file_extension": ".py",
   "mimetype": "text/x-python",
   "name": "python",
   "nbconvert_exporter": "python",
   "pygments_lexer": "ipython3",
   "version": "3.9.2"
  }
 },
 "nbformat": 4,
 "nbformat_minor": 2
}
